{
  "nbformat": 4,
  "nbformat_minor": 0,
  "metadata": {
    "colab": {
      "name": "Car_Evaluation.ipynb",
      "provenance": [],
      "collapsed_sections": [],
      "authorship_tag": "ABX9TyM931SuRymo+rS/owm7t0AJ"
    },
    "kernelspec": {
      "name": "python3",
      "display_name": "Python 3"
    }
  },
  "cells": [
    {
      "cell_type": "markdown",
      "metadata": {
        "id": "hm81VUHnS8Ud",
        "colab_type": "text"
      },
      "source": [
        "# import necessory packages"
      ]
    },
    {
      "cell_type": "code",
      "metadata": {
        "id": "72ES4eZYztLO",
        "colab_type": "code",
        "colab": {}
      },
      "source": [
        "import pandas as pd\n",
        "from sklearn.model_selection import train_test_split"
      ],
      "execution_count": 167,
      "outputs": []
    },
    {
      "cell_type": "markdown",
      "metadata": {
        "id": "BrmPHPJFSlec",
        "colab_type": "text"
      },
      "source": [
        "# Data Preprocessing"
      ]
    },
    {
      "cell_type": "code",
      "metadata": {
        "id": "WOVG-zkF1zbT",
        "colab_type": "code",
        "colab": {}
      },
      "source": [
        "path_to_csv = \"/content/car.csv\"\n",
        "data = pd.read_csv(path_to_csv,names=['buying','maint','doors','persons','lug_boot','safety','target_label'])"
      ],
      "execution_count": 168,
      "outputs": []
    },
    {
      "cell_type": "code",
      "metadata": {
        "id": "6off1F29utcK",
        "colab_type": "code",
        "colab": {}
      },
      "source": [
        "# replace low, med, high, vhigh with 0,1,2,3 repectively in 'buying' column\n",
        "data.replace({'buying': { 'low':0, 'med':1, 'high':2, 'vhigh':3 }},inplace=True)\n",
        "\n",
        "# replace low, med, high, vhigh with 0,1,2,3 repectively in 'maint' column\n",
        "data.replace({'maint': { 'low':0, 'med':1, 'high':2, 'vhigh':3 }},inplace=True)\n",
        "\n",
        "# replace 5more with 5 in 'doors' column\n",
        "data.replace({'doors': { '5more':5 }},inplace=True)\n",
        "\n",
        "# replace more with 5 in 'persons' column\n",
        "data.replace({'persons': { 'more':5 }},inplace=True)\n",
        "\n",
        "# convert 'doors' and 'persons' column to int dtype\n",
        "data = data.astype({ 'doors':int, 'persons':int })\n",
        "\n",
        "# replace small, med, big with 0, 1, 2 in 'lug_boot' column\n",
        "data.replace({'lug_boot': { 'small':0, 'med':1, 'big':2 }},inplace=True)\n",
        "\n",
        "# replace low, med, high with 0, 1, 2 in 'safety' column\n",
        "data.replace({ 'safety': { 'low':0, 'med':1, 'high':2 }},inplace=True)"
      ],
      "execution_count": 169,
      "outputs": []
    },
    {
      "cell_type": "code",
      "metadata": {
        "id": "R-bprlhkF-JE",
        "colab_type": "code",
        "colab": {}
      },
      "source": [
        "# replace \"unacc\"(unacceptable),\"acc\"(acceptable),\"good\",\"vgood\" with 0, 1, 2, 3 repectively in 'target_label' column\n",
        "data.replace({'target_label' : { 'unacc' : 1, 'acc' : 2, 'good' : 3,'vgood':4 }},inplace=True)"
      ],
      "execution_count": 170,
      "outputs": []
    },
    {
      "cell_type": "code",
      "metadata": {
        "id": "u28R1rUmHLQo",
        "colab_type": "code",
        "colab": {
          "base_uri": "https://localhost:8080/",
          "height": 419
        },
        "outputId": "a2d454f0-936a-4976-896e-4dc873f1163d"
      },
      "source": [
        "data"
      ],
      "execution_count": 171,
      "outputs": [
        {
          "output_type": "execute_result",
          "data": {
            "text/html": [
              "<div>\n",
              "<style scoped>\n",
              "    .dataframe tbody tr th:only-of-type {\n",
              "        vertical-align: middle;\n",
              "    }\n",
              "\n",
              "    .dataframe tbody tr th {\n",
              "        vertical-align: top;\n",
              "    }\n",
              "\n",
              "    .dataframe thead th {\n",
              "        text-align: right;\n",
              "    }\n",
              "</style>\n",
              "<table border=\"1\" class=\"dataframe\">\n",
              "  <thead>\n",
              "    <tr style=\"text-align: right;\">\n",
              "      <th></th>\n",
              "      <th>buying</th>\n",
              "      <th>maint</th>\n",
              "      <th>doors</th>\n",
              "      <th>persons</th>\n",
              "      <th>lug_boot</th>\n",
              "      <th>safety</th>\n",
              "      <th>target_label</th>\n",
              "    </tr>\n",
              "  </thead>\n",
              "  <tbody>\n",
              "    <tr>\n",
              "      <th>0</th>\n",
              "      <td>3</td>\n",
              "      <td>3</td>\n",
              "      <td>2</td>\n",
              "      <td>2</td>\n",
              "      <td>0</td>\n",
              "      <td>0</td>\n",
              "      <td>1</td>\n",
              "    </tr>\n",
              "    <tr>\n",
              "      <th>1</th>\n",
              "      <td>3</td>\n",
              "      <td>3</td>\n",
              "      <td>2</td>\n",
              "      <td>2</td>\n",
              "      <td>0</td>\n",
              "      <td>1</td>\n",
              "      <td>1</td>\n",
              "    </tr>\n",
              "    <tr>\n",
              "      <th>2</th>\n",
              "      <td>3</td>\n",
              "      <td>3</td>\n",
              "      <td>2</td>\n",
              "      <td>2</td>\n",
              "      <td>0</td>\n",
              "      <td>2</td>\n",
              "      <td>1</td>\n",
              "    </tr>\n",
              "    <tr>\n",
              "      <th>3</th>\n",
              "      <td>3</td>\n",
              "      <td>3</td>\n",
              "      <td>2</td>\n",
              "      <td>2</td>\n",
              "      <td>1</td>\n",
              "      <td>0</td>\n",
              "      <td>1</td>\n",
              "    </tr>\n",
              "    <tr>\n",
              "      <th>4</th>\n",
              "      <td>3</td>\n",
              "      <td>3</td>\n",
              "      <td>2</td>\n",
              "      <td>2</td>\n",
              "      <td>1</td>\n",
              "      <td>1</td>\n",
              "      <td>1</td>\n",
              "    </tr>\n",
              "    <tr>\n",
              "      <th>...</th>\n",
              "      <td>...</td>\n",
              "      <td>...</td>\n",
              "      <td>...</td>\n",
              "      <td>...</td>\n",
              "      <td>...</td>\n",
              "      <td>...</td>\n",
              "      <td>...</td>\n",
              "    </tr>\n",
              "    <tr>\n",
              "      <th>1723</th>\n",
              "      <td>0</td>\n",
              "      <td>0</td>\n",
              "      <td>5</td>\n",
              "      <td>5</td>\n",
              "      <td>1</td>\n",
              "      <td>1</td>\n",
              "      <td>3</td>\n",
              "    </tr>\n",
              "    <tr>\n",
              "      <th>1724</th>\n",
              "      <td>0</td>\n",
              "      <td>0</td>\n",
              "      <td>5</td>\n",
              "      <td>5</td>\n",
              "      <td>1</td>\n",
              "      <td>2</td>\n",
              "      <td>4</td>\n",
              "    </tr>\n",
              "    <tr>\n",
              "      <th>1725</th>\n",
              "      <td>0</td>\n",
              "      <td>0</td>\n",
              "      <td>5</td>\n",
              "      <td>5</td>\n",
              "      <td>2</td>\n",
              "      <td>0</td>\n",
              "      <td>1</td>\n",
              "    </tr>\n",
              "    <tr>\n",
              "      <th>1726</th>\n",
              "      <td>0</td>\n",
              "      <td>0</td>\n",
              "      <td>5</td>\n",
              "      <td>5</td>\n",
              "      <td>2</td>\n",
              "      <td>1</td>\n",
              "      <td>3</td>\n",
              "    </tr>\n",
              "    <tr>\n",
              "      <th>1727</th>\n",
              "      <td>0</td>\n",
              "      <td>0</td>\n",
              "      <td>5</td>\n",
              "      <td>5</td>\n",
              "      <td>2</td>\n",
              "      <td>2</td>\n",
              "      <td>4</td>\n",
              "    </tr>\n",
              "  </tbody>\n",
              "</table>\n",
              "<p>1728 rows × 7 columns</p>\n",
              "</div>"
            ],
            "text/plain": [
              "      buying  maint  doors  persons  lug_boot  safety  target_label\n",
              "0          3      3      2        2         0       0             1\n",
              "1          3      3      2        2         0       1             1\n",
              "2          3      3      2        2         0       2             1\n",
              "3          3      3      2        2         1       0             1\n",
              "4          3      3      2        2         1       1             1\n",
              "...      ...    ...    ...      ...       ...     ...           ...\n",
              "1723       0      0      5        5         1       1             3\n",
              "1724       0      0      5        5         1       2             4\n",
              "1725       0      0      5        5         2       0             1\n",
              "1726       0      0      5        5         2       1             3\n",
              "1727       0      0      5        5         2       2             4\n",
              "\n",
              "[1728 rows x 7 columns]"
            ]
          },
          "metadata": {
            "tags": []
          },
          "execution_count": 171
        }
      ]
    },
    {
      "cell_type": "code",
      "metadata": {
        "id": "ptyvcc11cZAy",
        "colab_type": "code",
        "colab": {
          "base_uri": "https://localhost:8080/",
          "height": 510
        },
        "outputId": "47372c7c-d299-4a68-a0db-076acbce92ff"
      },
      "source": [
        "print(\"Column DataTypes - \\n\",data.dtypes)\n",
        "print()\n",
        "print(\"Sum of Null Values - \\n\",data.isnull().sum())\n",
        "print()\n",
        "print(\"Sum of None values - \\n\",data.isna().sum())"
      ],
      "execution_count": 172,
      "outputs": [
        {
          "output_type": "stream",
          "text": [
            "Column DataTypes - \n",
            " buying          int64\n",
            "maint           int64\n",
            "doors           int64\n",
            "persons         int64\n",
            "lug_boot        int64\n",
            "safety          int64\n",
            "target_label    int64\n",
            "dtype: object\n",
            "\n",
            "Sum of Null Values - \n",
            " buying          0\n",
            "maint           0\n",
            "doors           0\n",
            "persons         0\n",
            "lug_boot        0\n",
            "safety          0\n",
            "target_label    0\n",
            "dtype: int64\n",
            "\n",
            "Sum of None values - \n",
            " buying          0\n",
            "maint           0\n",
            "doors           0\n",
            "persons         0\n",
            "lug_boot        0\n",
            "safety          0\n",
            "target_label    0\n",
            "dtype: int64\n"
          ],
          "name": "stdout"
        }
      ]
    },
    {
      "cell_type": "code",
      "metadata": {
        "id": "gh0x6OZIdsTa",
        "colab_type": "code",
        "colab": {}
      },
      "source": [
        "# target variable\n",
        "target_variable = 'target_label'\n",
        "y = data[target_variable]\n",
        "\n",
        "# features\n",
        "X = data[data.columns.difference([target_variable])]"
      ],
      "execution_count": 173,
      "outputs": []
    },
    {
      "cell_type": "code",
      "metadata": {
        "id": "dmQ5CpNYerJl",
        "colab_type": "code",
        "colab": {}
      },
      "source": [
        "# split dataset\n",
        "X_train,X_test,y_train,y_test = train_test_split(X,y,test_size=0.30)"
      ],
      "execution_count": 174,
      "outputs": []
    },
    {
      "cell_type": "markdown",
      "metadata": {
        "id": "iKZ-_iILfCDi",
        "colab_type": "text"
      },
      "source": [
        "# Support Vector Classfication"
      ]
    },
    {
      "cell_type": "code",
      "metadata": {
        "id": "3xpchFygT_MG",
        "colab_type": "code",
        "colab": {}
      },
      "source": [
        "from sklearn.svm import SVC"
      ],
      "execution_count": 175,
      "outputs": []
    },
    {
      "cell_type": "code",
      "metadata": {
        "id": "9zajjRYIUGq7",
        "colab_type": "code",
        "colab": {}
      },
      "source": [
        "svcClf = SVC().fit(X_train,y_train)"
      ],
      "execution_count": 176,
      "outputs": []
    },
    {
      "cell_type": "code",
      "metadata": {
        "id": "eslmmIUOfP8N",
        "colab_type": "code",
        "colab": {
          "base_uri": "https://localhost:8080/",
          "height": 34
        },
        "outputId": "d3053476-909e-4a94-f539-d98f1bb6555d"
      },
      "source": [
        "svcClf.score(X_train,y_train) # train-set score"
      ],
      "execution_count": 177,
      "outputs": [
        {
          "output_type": "execute_result",
          "data": {
            "text/plain": [
              "0.9454094292803971"
            ]
          },
          "metadata": {
            "tags": []
          },
          "execution_count": 177
        }
      ]
    },
    {
      "cell_type": "code",
      "metadata": {
        "id": "tajz-b0KWCY-",
        "colab_type": "code",
        "colab": {
          "base_uri": "https://localhost:8080/",
          "height": 34
        },
        "outputId": "a4888e2e-929a-4989-fa32-d17e1fd5094e"
      },
      "source": [
        "svcClf.score(X_test,y_test) # test-set score"
      ],
      "execution_count": 178,
      "outputs": [
        {
          "output_type": "execute_result",
          "data": {
            "text/plain": [
              "0.9075144508670521"
            ]
          },
          "metadata": {
            "tags": []
          },
          "execution_count": 178
        }
      ]
    },
    {
      "cell_type": "code",
      "metadata": {
        "id": "Lq0JH3Xvg5iY",
        "colab_type": "code",
        "colab": {
          "base_uri": "https://localhost:8080/",
          "height": 34
        },
        "outputId": "4d552185-9126-4b6b-d146-8f6fb494735d"
      },
      "source": [
        "svcClf.predict([X_test.iloc[1]]) # predicted using 1st row of Test set"
      ],
      "execution_count": 179,
      "outputs": [
        {
          "output_type": "execute_result",
          "data": {
            "text/plain": [
              "array([1])"
            ]
          },
          "metadata": {
            "tags": []
          },
          "execution_count": 179
        }
      ]
    },
    {
      "cell_type": "markdown",
      "metadata": {
        "id": "Y8rK2JY5iliK",
        "colab_type": "text"
      },
      "source": [
        "# Stochastic Gradient Descent"
      ]
    },
    {
      "cell_type": "code",
      "metadata": {
        "id": "XqPcPZbhiuz_",
        "colab_type": "code",
        "colab": {}
      },
      "source": [
        "from sklearn.linear_model import SGDClassifier"
      ],
      "execution_count": 180,
      "outputs": []
    },
    {
      "cell_type": "code",
      "metadata": {
        "id": "bE-bNWh9i-mB",
        "colab_type": "code",
        "colab": {}
      },
      "source": [
        "sgdClf = SGDClassifier().fit(X_train,y_train)"
      ],
      "execution_count": 181,
      "outputs": []
    },
    {
      "cell_type": "code",
      "metadata": {
        "id": "hjqz_ktcjQQe",
        "colab_type": "code",
        "colab": {
          "base_uri": "https://localhost:8080/",
          "height": 34
        },
        "outputId": "a29f5d39-f925-429f-fce6-cb435d72083e"
      },
      "source": [
        "sgdClf.score(X_train,y_train) # train-set score"
      ],
      "execution_count": 182,
      "outputs": [
        {
          "output_type": "execute_result",
          "data": {
            "text/plain": [
              "0.8097601323407775"
            ]
          },
          "metadata": {
            "tags": []
          },
          "execution_count": 182
        }
      ]
    },
    {
      "cell_type": "code",
      "metadata": {
        "id": "sY6bXUgAk90d",
        "colab_type": "code",
        "colab": {
          "base_uri": "https://localhost:8080/",
          "height": 34
        },
        "outputId": "bff7b1e0-69dc-4c4e-ed32-e4f3352d0519"
      },
      "source": [
        "sgdClf.score(X_test,y_test) # test-set score"
      ],
      "execution_count": 183,
      "outputs": [
        {
          "output_type": "execute_result",
          "data": {
            "text/plain": [
              "0.7861271676300579"
            ]
          },
          "metadata": {
            "tags": []
          },
          "execution_count": 183
        }
      ]
    },
    {
      "cell_type": "code",
      "metadata": {
        "id": "6R_PgIEO1Cce",
        "colab_type": "code",
        "colab": {
          "base_uri": "https://localhost:8080/",
          "height": 34
        },
        "outputId": "07c97c1a-f27a-4f7e-bb6d-d2fb87fdab6e"
      },
      "source": [
        "sgdClf.predict([X_test.iloc[1]]) # predicted using 1st row of Test set"
      ],
      "execution_count": 184,
      "outputs": [
        {
          "output_type": "execute_result",
          "data": {
            "text/plain": [
              "array([2])"
            ]
          },
          "metadata": {
            "tags": []
          },
          "execution_count": 184
        }
      ]
    },
    {
      "cell_type": "markdown",
      "metadata": {
        "id": "ZJpUCLe3oWXh",
        "colab_type": "text"
      },
      "source": [
        "# K Nearest Neighbors"
      ]
    },
    {
      "cell_type": "code",
      "metadata": {
        "id": "WB2g_gC6obO1",
        "colab_type": "code",
        "colab": {}
      },
      "source": [
        "from sklearn.neighbors import KNeighborsClassifier"
      ],
      "execution_count": 185,
      "outputs": []
    },
    {
      "cell_type": "code",
      "metadata": {
        "id": "USzGvBoKqQyb",
        "colab_type": "code",
        "colab": {}
      },
      "source": [
        "knclf = KNeighborsClassifier(n_neighbors=4).fit(X_train,y_train)"
      ],
      "execution_count": 186,
      "outputs": []
    },
    {
      "cell_type": "code",
      "metadata": {
        "id": "4OMPj13sq-lT",
        "colab_type": "code",
        "colab": {
          "base_uri": "https://localhost:8080/",
          "height": 34
        },
        "outputId": "140cfd78-0187-4e9a-99d0-1d6eae27eee2"
      },
      "source": [
        "knclf.score(X_train,y_train) # train-set score"
      ],
      "execution_count": 187,
      "outputs": [
        {
          "output_type": "execute_result",
          "data": {
            "text/plain": [
              "0.9685690653432589"
            ]
          },
          "metadata": {
            "tags": []
          },
          "execution_count": 187
        }
      ]
    },
    {
      "cell_type": "code",
      "metadata": {
        "id": "qd7M6Eo2rL_7",
        "colab_type": "code",
        "colab": {
          "base_uri": "https://localhost:8080/",
          "height": 34
        },
        "outputId": "a2d89a12-902c-4f04-a2f7-fe4111c09e51"
      },
      "source": [
        "knclf.score(X_test,y_test) # test-set score"
      ],
      "execution_count": 188,
      "outputs": [
        {
          "output_type": "execute_result",
          "data": {
            "text/plain": [
              "0.9036608863198459"
            ]
          },
          "metadata": {
            "tags": []
          },
          "execution_count": 188
        }
      ]
    },
    {
      "cell_type": "code",
      "metadata": {
        "id": "JMmOrk_Y1JGA",
        "colab_type": "code",
        "colab": {
          "base_uri": "https://localhost:8080/",
          "height": 34
        },
        "outputId": "d926ecda-3ac1-4f4e-d393-739c13593976"
      },
      "source": [
        "knclf.predict([X_test.iloc[1]]) # predicted using 1st row of Test set "
      ],
      "execution_count": 189,
      "outputs": [
        {
          "output_type": "execute_result",
          "data": {
            "text/plain": [
              "array([1])"
            ]
          },
          "metadata": {
            "tags": []
          },
          "execution_count": 189
        }
      ]
    },
    {
      "cell_type": "markdown",
      "metadata": {
        "id": "nonSwFUQsmM1",
        "colab_type": "text"
      },
      "source": [
        "# Categorical Naive Bayes"
      ]
    },
    {
      "cell_type": "code",
      "metadata": {
        "id": "qVJf1pHvs8aO",
        "colab_type": "code",
        "colab": {}
      },
      "source": [
        "from sklearn.naive_bayes import CategoricalNB"
      ],
      "execution_count": 190,
      "outputs": []
    },
    {
      "cell_type": "code",
      "metadata": {
        "id": "h9iV81DZtEGh",
        "colab_type": "code",
        "colab": {}
      },
      "source": [
        "ctnbClf = CategoricalNB().fit(X_train,y_train)"
      ],
      "execution_count": 191,
      "outputs": []
    },
    {
      "cell_type": "code",
      "metadata": {
        "id": "X_qdW_7JtOOS",
        "colab_type": "code",
        "colab": {
          "base_uri": "https://localhost:8080/",
          "height": 34
        },
        "outputId": "2aa629f7-caee-4f32-cb83-f890a0b5b084"
      },
      "source": [
        "ctnbClf.score(X_train,y_train) # train-set score"
      ],
      "execution_count": 192,
      "outputs": [
        {
          "output_type": "execute_result",
          "data": {
            "text/plain": [
              "0.8726220016542597"
            ]
          },
          "metadata": {
            "tags": []
          },
          "execution_count": 192
        }
      ]
    },
    {
      "cell_type": "code",
      "metadata": {
        "id": "s16k8tBatcLw",
        "colab_type": "code",
        "colab": {
          "base_uri": "https://localhost:8080/",
          "height": 34
        },
        "outputId": "1b65e026-0f68-4379-dad1-3f5a800968c4"
      },
      "source": [
        "ctnbClf.score(X_test,y_test) # test-set score"
      ],
      "execution_count": 193,
      "outputs": [
        {
          "output_type": "execute_result",
          "data": {
            "text/plain": [
              "0.8265895953757225"
            ]
          },
          "metadata": {
            "tags": []
          },
          "execution_count": 193
        }
      ]
    },
    {
      "cell_type": "code",
      "metadata": {
        "id": "xy4z9VZD1Qa4",
        "colab_type": "code",
        "colab": {
          "base_uri": "https://localhost:8080/",
          "height": 34
        },
        "outputId": "c9f3de3d-0fea-4dd3-e9b8-89a623391be1"
      },
      "source": [
        "ctnbClf.predict([X_test.iloc[1]]) # predicted using 1st row of Test set"
      ],
      "execution_count": 194,
      "outputs": [
        {
          "output_type": "execute_result",
          "data": {
            "text/plain": [
              "array([1])"
            ]
          },
          "metadata": {
            "tags": []
          },
          "execution_count": 194
        }
      ]
    },
    {
      "cell_type": "markdown",
      "metadata": {
        "id": "UJCbfBKjuErd",
        "colab_type": "text"
      },
      "source": [
        "# Decision Tree Classifier"
      ]
    },
    {
      "cell_type": "code",
      "metadata": {
        "id": "4e01sXkTuIa6",
        "colab_type": "code",
        "colab": {}
      },
      "source": [
        "from sklearn.tree import DecisionTreeClassifier"
      ],
      "execution_count": 195,
      "outputs": []
    },
    {
      "cell_type": "code",
      "metadata": {
        "id": "E7UAqogJuQGb",
        "colab_type": "code",
        "colab": {}
      },
      "source": [
        "dtreeClf = DecisionTreeClassifier(max_features=None).fit(X_train,y_train)"
      ],
      "execution_count": 196,
      "outputs": []
    },
    {
      "cell_type": "code",
      "metadata": {
        "id": "DBkSb1waujaG",
        "colab_type": "code",
        "colab": {
          "base_uri": "https://localhost:8080/",
          "height": 34
        },
        "outputId": "7d5c9fea-d1bd-42ef-9a88-f153ed040926"
      },
      "source": [
        "dtreeClf.score(X_train,y_train) # train-set score"
      ],
      "execution_count": 197,
      "outputs": [
        {
          "output_type": "execute_result",
          "data": {
            "text/plain": [
              "1.0"
            ]
          },
          "metadata": {
            "tags": []
          },
          "execution_count": 197
        }
      ]
    },
    {
      "cell_type": "code",
      "metadata": {
        "id": "YIuBXHHMup-8",
        "colab_type": "code",
        "colab": {
          "base_uri": "https://localhost:8080/",
          "height": 34
        },
        "outputId": "12ed5491-6b15-4f89-eeb2-d40acdfb91ee"
      },
      "source": [
        "dtreeClf.score(X_test,y_test) # test-set score"
      ],
      "execution_count": 198,
      "outputs": [
        {
          "output_type": "execute_result",
          "data": {
            "text/plain": [
              "0.9614643545279383"
            ]
          },
          "metadata": {
            "tags": []
          },
          "execution_count": 198
        }
      ]
    },
    {
      "cell_type": "code",
      "metadata": {
        "id": "6DVRnHPz1aKg",
        "colab_type": "code",
        "colab": {
          "base_uri": "https://localhost:8080/",
          "height": 34
        },
        "outputId": "071f8d73-d47a-41c5-e497-89d791228a0a"
      },
      "source": [
        "dtreeClf.predict([X_test.iloc[1]]) # predicted using 1st row of Test set"
      ],
      "execution_count": 199,
      "outputs": [
        {
          "output_type": "execute_result",
          "data": {
            "text/plain": [
              "array([1])"
            ]
          },
          "metadata": {
            "tags": []
          },
          "execution_count": 199
        }
      ]
    },
    {
      "cell_type": "markdown",
      "metadata": {
        "id": "vsZqaC-qCIS9",
        "colab_type": "text"
      },
      "source": [
        "# Random Forest Classifier"
      ]
    },
    {
      "cell_type": "code",
      "metadata": {
        "id": "z8RnyWWtCOQ5",
        "colab_type": "code",
        "colab": {}
      },
      "source": [
        "from sklearn.ensemble import RandomForestClassifier"
      ],
      "execution_count": 200,
      "outputs": []
    },
    {
      "cell_type": "code",
      "metadata": {
        "id": "TLmwJNM5Cxpz",
        "colab_type": "code",
        "colab": {}
      },
      "source": [
        "rfClf = RandomForestClassifier(max_features=None).fit(X_train,y_train)"
      ],
      "execution_count": 201,
      "outputs": []
    },
    {
      "cell_type": "code",
      "metadata": {
        "id": "wLeLAlIXDVxQ",
        "colab_type": "code",
        "colab": {
          "base_uri": "https://localhost:8080/",
          "height": 34
        },
        "outputId": "08a15cd3-c47e-4030-ea05-dc3847a0c943"
      },
      "source": [
        "rfClf.score(X_train,y_train) # train-set score "
      ],
      "execution_count": 202,
      "outputs": [
        {
          "output_type": "execute_result",
          "data": {
            "text/plain": [
              "1.0"
            ]
          },
          "metadata": {
            "tags": []
          },
          "execution_count": 202
        }
      ]
    },
    {
      "cell_type": "code",
      "metadata": {
        "id": "kBf93bqEDcOj",
        "colab_type": "code",
        "colab": {
          "base_uri": "https://localhost:8080/",
          "height": 34
        },
        "outputId": "663e789a-ff4c-45e6-c642-20e5fc936b69"
      },
      "source": [
        "rfClf.score(X_test,y_test) # test-set score"
      ],
      "execution_count": 203,
      "outputs": [
        {
          "output_type": "execute_result",
          "data": {
            "text/plain": [
              "0.9710982658959537"
            ]
          },
          "metadata": {
            "tags": []
          },
          "execution_count": 203
        }
      ]
    },
    {
      "cell_type": "code",
      "metadata": {
        "id": "rmoheWkpDqdT",
        "colab_type": "code",
        "colab": {
          "base_uri": "https://localhost:8080/",
          "height": 34
        },
        "outputId": "bb2d87eb-39e9-4150-d1aa-306ba611be16"
      },
      "source": [
        "rfClf.predict([X_test.iloc[1]]) # predicted using 1st row of Test set"
      ],
      "execution_count": 204,
      "outputs": [
        {
          "output_type": "execute_result",
          "data": {
            "text/plain": [
              "array([1])"
            ]
          },
          "metadata": {
            "tags": []
          },
          "execution_count": 204
        }
      ]
    }
  ]
}